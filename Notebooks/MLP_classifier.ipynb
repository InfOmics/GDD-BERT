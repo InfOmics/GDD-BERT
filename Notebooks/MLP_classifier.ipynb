{
 "cells": [
  {
   "cell_type": "markdown",
   "metadata": {},
   "source": [
    "# MLP classifier"
   ]
  },
  {
   "cell_type": "markdown",
   "metadata": {},
   "source": [
    "This notebook takes as input the output from `create_dfs.ipynb` and trains a MLP classifier.\n",
    "\n",
    "Inputs:\n",
    "- `final_df`: dataset for training and testing the model\n",
    "- `validation_df`: dataset for validation of the model\n",
    "\n",
    "Outputs:\n",
    "- Accuracy for MLP classifier for `validation_df`"
   ]
  },
  {
   "cell_type": "markdown",
   "metadata": {},
   "source": [
    "Import libraries and set paths for inputs and outputs."
   ]
  },
  {
   "cell_type": "code",
   "execution_count": null,
   "metadata": {},
   "outputs": [],
   "source": [
    "import torch\n",
    "from torch import nn\n",
    "import pandas as pd\n",
    "import random\n",
    "from torch.utils.data import Dataset, DataLoader\n",
    "from sklearn.model_selection import train_test_split\n",
    "from sklearn.metrics import f1_score, recall_score, precision_score\n",
    "import numpy as np\n",
    "from statistics import mean, stdev\n",
    "\n",
    "path_to_final_df = \"\"\n",
    "test_size = 0.3 # test_size for train_test_split\n",
    "\n",
    "# Model parameters\n",
    "indim = 384 # 384 = 128 * 3 (for BERTwalk the embeddins were 128-dimensional, for BIONIC vedi tu)\n",
    "h1 = 128 # by default 128\n",
    "outdim = 2 # 2 classes (positive/negative triplets)\n",
    "n_epochs = 300 # number of training epochs\n",
    "\n",
    "path_to_validation_df = \"\"\n",
    "\n",
    "cvs = 5 # number of cross validations\n",
    "# Set seed\n",
    "SEED = 42\n",
    "random.seed(SEED)\n",
    "np.random.seed(SEED)\n"
   ]
  },
  {
   "cell_type": "markdown",
   "metadata": {},
   "source": [
    "## Create train and test datasets"
   ]
  },
  {
   "cell_type": "markdown",
   "metadata": {},
   "source": [
    "Load `final_df` and shuffle data."
   ]
  },
  {
   "cell_type": "code",
   "execution_count": null,
   "metadata": {},
   "outputs": [],
   "source": [
    "# Load data\n",
    "triplets = pd.read_csv(path_to_final_df, sep = \"\\t\")\n",
    "\n",
    "# Shuffle the dataframe before splitting\n",
    "triplets = triplets.sample(frac = 1)\n",
    "\n",
    "# Divide X and y (np.fromstring to obtain numpy arrays)\n",
    "X = triplets[\"Concat_emb\"].apply(lambda x: np.fromstring(x.replace('\\n','').replace('[','').replace(']','').replace('  ',' '), sep=' '))\n",
    "y = triplets[\"Label\"].values\n",
    "\n",
    "# Stack the arrays to create a matrix\n",
    "X = np.stack(X.values, axis = 0)\n",
    "# Create training and test set\n",
    "X_train, X_test, y_train, y_test = train_test_split(X, y, test_size=test_size)\n",
    "\n",
    "# Convert to torch tensors\n",
    "X_train = torch.FloatTensor(X_train)\n",
    "y_train = torch.LongTensor(y_train)\n",
    "X_test = torch.FloatTensor(X_test)\n",
    "y_test = torch.LongTensor(y_test)"
   ]
  },
  {
   "cell_type": "markdown",
   "metadata": {},
   "source": [
    "Load `validation_df` for validation purposes."
   ]
  },
  {
   "cell_type": "code",
   "execution_count": null,
   "metadata": {},
   "outputs": [],
   "source": [
    "# Load validation_df\n",
    "validation_embs = pd.read_csv(path_to_validation_df, sep = \"\\t\")\n",
    "\n",
    "# Shuffle data\n",
    "validation_embs = validation_embs.sample(frac = 1)\n",
    "\n",
    "# Separate data from labels\n",
    "X_val = validation_embs[\"Concat_emb\"].apply(lambda x: np.fromstring(x.replace('\\n','').replace('[','').replace(']','').replace('  ',' '), sep=' '))\n",
    "true_val = validation_embs[\"Label\"].values\n",
    "\n",
    "# Stack the arrays to create a matrix\n",
    "X_val = np.stack(X_val.values, axis = 0)\n",
    "\n",
    "# Convert to torch tensors\n",
    "X_val = torch.FloatTensor(X_val)\n",
    "true_val = torch.LongTensor(true_val)"
   ]
  },
  {
   "cell_type": "markdown",
   "metadata": {},
   "source": [
    "## Define the model"
   ]
  },
  {
   "cell_type": "markdown",
   "metadata": {},
   "source": [
    "Define the MLP model and create an instance of it.<br>\n",
    "The model is composed by a single hidden layer, with `RELU` activation function and `h1` neurons."
   ]
  },
  {
   "cell_type": "code",
   "execution_count": null,
   "metadata": {},
   "outputs": [],
   "source": [
    "# Define the model\n",
    "class mynet(nn.Module):\n",
    "    def __init__(self, indim, h1, outdim):\n",
    "        super().__init__()\n",
    "        self.l0 = nn.Linear(indim, h1)\n",
    "        self.output = nn.Linear(h1, outdim)\n",
    "\n",
    "    def forward(self, x):\n",
    "        z1 = torch.relu(self.l0(x))\n",
    "        out = self.output(z1)\n",
    "        return out"
   ]
  },
  {
   "cell_type": "markdown",
   "metadata": {},
   "source": [
    "## Training and testing"
   ]
  },
  {
   "cell_type": "markdown",
   "metadata": {},
   "source": [
    "Train the model for `n_epochs`."
   ]
  },
  {
   "cell_type": "code",
   "execution_count": null,
   "metadata": {},
   "outputs": [],
   "source": [
    "precisions = []\n",
    "recalls = []\n",
    "accs = []\n",
    "f1s = []\n",
    "\n",
    "\n",
    "for cv in range(cvs):\n",
    "    print(f\"Iter: {cv+1}\")\n",
    "    # Create an instance of the model\n",
    "    model = mynet(indim, h1, outdim)\n",
    "\n",
    "    # Set criterion and init optimizer\n",
    "    criterion = nn.CrossEntropyLoss()\n",
    "    optimizer = torch.optim.Adam(model.parameters(), lr = 0.05)\n",
    "\n",
    "    # Train the model\n",
    "    losses = []\n",
    "    model.train()\n",
    "    for i in range(n_epochs):\n",
    "        y_pred = model(X_train)\n",
    "        loss = criterion(y_pred,y_train.squeeze())\n",
    "        losses.append(loss.detach().numpy())\n",
    "        # do backprop\n",
    "        optimizer.zero_grad()\n",
    "        loss.backward()\n",
    "        optimizer.step()\n",
    "        if i % 100 == 0:\n",
    "            print(f\"Epoch: {i}, Loss: {loss}\")\n",
    "\n",
    "    with torch.no_grad():\n",
    "        pred_val = model(X_val)\n",
    "\n",
    "    preds = pred_val.argmax(dim = 1)\n",
    "    tot_acc = ((preds == true_val).sum()/len(preds)).item()\n",
    "    noass_acc = ((preds[true_val == 0] == true_val[true_val == 0]).sum()/len(true_val[true_val == 0])).item()\n",
    "    ass_acc = ((preds[true_val == 1] == true_val[true_val == 1]).sum()/len(true_val[true_val == 1])).item()\n",
    "\n",
    "    f1 = f1_score(true_val, preds)\n",
    "    recall = recall_score(true_val, preds)\n",
    "    precision = precision_score(true_val, preds)\n",
    "    acc = (noass_acc + ass_acc)/2\n",
    "\n",
    "    # Append results\n",
    "    precisions.append(precision)\n",
    "    recalls.append(recall)\n",
    "    accs.append(acc)\n",
    "    f1s.append(f1)\n",
    "\n",
    "print(\"Final results...\")\n",
    "print(f\"Mean Accuracy: {mean(accs)} +/- {stdev(accs)}\")\n",
    "print(f\"Mean Recall: {mean(recalls)} +/- {stdev(recalls)}\")\n",
    "print(f\"Mean Precision: {mean(precisions)} +/- {stdev(precisions)}\")\n",
    "print(f\"Mean F1: {mean(f1s)} +/- {stdev(f1s)}\")"
   ]
  }
 ],
 "metadata": {
  "kernelspec": {
   "display_name": "shasha",
   "language": "python",
   "name": "python3"
  },
  "language_info": {
   "codemirror_mode": {
    "name": "ipython",
    "version": 3
   },
   "file_extension": ".py",
   "mimetype": "text/x-python",
   "name": "python",
   "nbconvert_exporter": "python",
   "pygments_lexer": "ipython3",
   "version": "3.9.16"
  }
 },
 "nbformat": 4,
 "nbformat_minor": 2
}
