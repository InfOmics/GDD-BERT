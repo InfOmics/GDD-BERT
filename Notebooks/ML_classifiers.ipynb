{
 "cells": [
  {
   "cell_type": "markdown",
   "metadata": {},
   "source": [
    "# ML classifiers"
   ]
  },
  {
   "cell_type": "markdown",
   "metadata": {},
   "source": [
    "This notebook takes as input the output from `create_dfs.ipynb` and trains a Logistic Regression and Random Forest classifiers.\n",
    "\n",
    "Inputs:\n",
    "- `final_df`: dataset for training and testing the model\n",
    "- `validation_df`: dataset for validation of the model\n",
    "\n",
    "Outputs:\n",
    "- Accuracy for Logistic Regression and Random Forest classifiers for `validation_df`"
   ]
  },
  {
   "cell_type": "markdown",
   "metadata": {},
   "source": [
    "Import libraries and set paths for inputs and outputs"
   ]
  },
  {
   "cell_type": "code",
   "execution_count": null,
   "metadata": {},
   "outputs": [],
   "source": [
    "import pandas as pd\n",
    "import numpy as np\n",
    "import random\n",
    "from sklearn.ensemble import RandomForestClassifier\n",
    "from sklearn.linear_model import LogisticRegression\n",
    "from sklearn.model_selection import train_test_split\n",
    "from sklearn.metrics import accuracy_score, classification_report, confusion_matrix, recall_score, precision_score, f1_score\n",
    "from statistics import mean, stdev\n",
    "\n",
    "path_to_final_df = \"\"\n",
    "test_size = 0.3 # test_size for train_test_split\n",
    "\n",
    "path_to_validation_df = \"\"\n",
    "cvs = 5 # Number of cross validations\n",
    "# Set seed\n",
    "SEED=42\n",
    "random.seed(SEED)\n",
    "np.random.seed(SEED)\n"
   ]
  },
  {
   "cell_type": "markdown",
   "metadata": {},
   "source": [
    "## Create train, test and validation datasets"
   ]
  },
  {
   "cell_type": "markdown",
   "metadata": {},
   "source": [
    "Load `final_df` and create train and test datasets."
   ]
  },
  {
   "cell_type": "code",
   "execution_count": null,
   "metadata": {},
   "outputs": [],
   "source": [
    "# Load data\n",
    "triplets = pd.read_csv(path_to_final_df, sep = \"\\t\")\n",
    "\n",
    "# Shuffle the dataframe before splitting\n",
    "triplets = triplets.sample(frac = 1)\n",
    "\n",
    "# Divide X and y (np.fromstring to obtain numpy arrays)\n",
    "X = triplets[\"Concat_emb\"].apply(lambda x: np.fromstring(x.replace('\\n','').replace('[','').replace(']','').replace('  ',' '), sep=' '))\n",
    "y = triplets[\"Label\"].values\n",
    "\n",
    "# Stack the arrays to create a matrix\n",
    "X = np.stack(X.values, axis = 0)\n",
    "# Create training and test set\n",
    "X_train, X_test, y_train, y_test = train_test_split(X, y, test_size=test_size)"
   ]
  },
  {
   "cell_type": "markdown",
   "metadata": {},
   "source": [
    "Load `validation_df` dataset and create validation set."
   ]
  },
  {
   "cell_type": "code",
   "execution_count": null,
   "metadata": {},
   "outputs": [],
   "source": [
    "# Load validation_df\n",
    "validation_embs = pd.read_csv(path_to_validation_df, sep = \"\\t\")\n",
    "\n",
    "# Shuffle data\n",
    "validation_embs = validation_embs.sample(frac = 1)\n",
    "\n",
    "# Separate data from labels\n",
    "X_val = validation_embs[\"Concat_emb\"].apply(lambda x: np.fromstring(x.replace('\\n','').replace('[','').replace(']','').replace('  ',' '), sep=' '))\n",
    "true_val = validation_embs[\"Label\"].values\n",
    "\n",
    "# Stack the arrays to create a matrix\n",
    "X_val = np.stack(X_val.values, axis = 0)"
   ]
  },
  {
   "cell_type": "markdown",
   "metadata": {},
   "source": [
    "## Random Forest Classifier"
   ]
  },
  {
   "cell_type": "markdown",
   "metadata": {},
   "source": [
    "Define the model, train and test it.<br>"
   ]
  },
  {
   "cell_type": "code",
   "execution_count": null,
   "metadata": {},
   "outputs": [],
   "source": [
    "accs = []\n",
    "precisions = []\n",
    "recalls = []\n",
    "f1s = []\n",
    "\n",
    "for cv in range(cvs):\n",
    "    print(f\"Iter: {cv+1}\")\n",
    "    clf = RandomForestClassifier()\n",
    "\n",
    "    # Train the model\n",
    "    clf.fit(X_train, y_train)\n",
    "\n",
    "    # Make predictions\n",
    "    val_preds = clf.predict(X_val)\n",
    "\n",
    "    # Take results\n",
    "    acc = accuracy_score(true_val, val_preds)\n",
    "    recall = recall_score(true_val, val_preds)\n",
    "    precision = precision_score(true_val, val_preds)\n",
    "    f1 = f1_score(true_val, val_preds)\n",
    "\n",
    "    # Append results\n",
    "    precisions.append(precision)\n",
    "    recalls.append(recall)\n",
    "    accs.append(acc)\n",
    "    f1s.append(f1)\n",
    "\n",
    "print(\"Final results...\")\n",
    "print(f\"Mean Accuracy: {mean(accs)} +/- {stdev(accs)}\")\n",
    "print(f\"Mean Recall: {mean(recalls)} +/- {stdev(recalls)}\")\n",
    "print(f\"Mean Precision: {mean(precisions)} +/- {stdev(precisions)}\")\n",
    "print(f\"Mean F1: {mean(f1s)} +/- {stdev(f1s)}\")\n"
   ]
  },
  {
   "cell_type": "markdown",
   "metadata": {},
   "source": [
    "## Logistic Regression"
   ]
  },
  {
   "cell_type": "markdown",
   "metadata": {},
   "source": [
    "Define the model, train and test it.<br>"
   ]
  },
  {
   "cell_type": "code",
   "execution_count": null,
   "metadata": {},
   "outputs": [],
   "source": [
    "accs = []\n",
    "precisions = []\n",
    "recalls = []\n",
    "f1s = []\n",
    "\n",
    "for cv in range(cvs):\n",
    "    print(f\"Iter: {cv+1}\")\n",
    "    clf = LogisticRegression()\n",
    "\n",
    "    # Train the model\n",
    "    clf.fit(X_train, y_train)\n",
    "\n",
    "    # Make predictions\n",
    "    val_preds = clf.predict(X_val)\n",
    "\n",
    "    # Take results\n",
    "    acc = accuracy_score(true_val, val_preds)\n",
    "    recall = recall_score(true_val, val_preds)\n",
    "    precision = precision_score(true_val, val_preds)\n",
    "    f1 = f1_score(true_val, val_preds)\n",
    "\n",
    "    # Append results\n",
    "    precisions.append(precision)\n",
    "    recalls.append(recall)\n",
    "    accs.append(acc)\n",
    "    f1s.append(f1)\n",
    "\n",
    "print(\"Final results...\")\n",
    "print(f\"Mean Accuracy: {mean(accs)} +/- {stdev(accs)}\")\n",
    "print(f\"Mean Recall: {mean(recalls)} +/- {stdev(recalls)}\")\n",
    "print(f\"Mean Precision: {mean(precisions)} +/- {stdev(precisions)}\")\n",
    "print(f\"Mean F1: {mean(f1s)} +/- {stdev(f1s)}\")"
   ]
  }
 ],
 "metadata": {
  "kernelspec": {
   "display_name": "shasha",
   "language": "python",
   "name": "python3"
  },
  "language_info": {
   "codemirror_mode": {
    "name": "ipython",
    "version": 3
   },
   "file_extension": ".py",
   "mimetype": "text/x-python",
   "name": "python",
   "nbconvert_exporter": "python",
   "pygments_lexer": "ipython3",
   "version": "3.9.16"
  }
 },
 "nbformat": 4,
 "nbformat_minor": 2
}
